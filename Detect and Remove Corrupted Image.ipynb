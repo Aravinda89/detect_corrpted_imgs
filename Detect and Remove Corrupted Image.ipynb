{
 "cells": [
  {
   "cell_type": "code",
   "execution_count": 19,
   "id": "9f0279c3",
   "metadata": {},
   "outputs": [],
   "source": [
    "import os\n",
    "from PIL import Image"
   ]
  },
  {
   "cell_type": "code",
   "execution_count": 20,
   "id": "ee0e8873",
   "metadata": {},
   "outputs": [],
   "source": [
    "def check_and_remove_corrupted_image(file_path):\n",
    "    try:\n",
    "        with Image.open(file_path) as img:\n",
    "            img.verify()  # Verify the image file integrity\n",
    "        return False  # Image is not corrupted\n",
    "    except (IOError, SyntaxError) as e:\n",
    "        print(f\"Removing corrupted image: {file_path} - {e}\")\n",
    "        os.remove(file_path)  # Remove corrupted image file\n",
    "        return True  # Image was corrupted and removed\n",
    "            \n",
    "def scan_and_clean_directory(directory):\n",
    "    for root, dirs, files in os.walk(directory):\n",
    "        for file in files:\n",
    "            file_path = os.path.join(root, file)\n",
    "            check_and_remove_corrupted_image(file_path)"
   ]
  },
  {
   "cell_type": "code",
   "execution_count": 21,
   "id": "a8323775",
   "metadata": {},
   "outputs": [
    {
     "name": "stdout",
     "output_type": "stream",
     "text": [
      "Directory scan and cleanup complete.\n"
     ]
    }
   ],
   "source": [
    "directory = \"./dataset/\"\n",
    "\n",
    "scan_and_clean_directory(directory)\n",
    "print(\"Directory scan and cleanup complete.\")"
   ]
  }
 ],
 "metadata": {
  "kernelspec": {
   "display_name": "TF_env",
   "language": "python",
   "name": "tf_env"
  },
  "language_info": {
   "codemirror_mode": {
    "name": "ipython",
    "version": 3
   },
   "file_extension": ".py",
   "mimetype": "text/x-python",
   "name": "python",
   "nbconvert_exporter": "python",
   "pygments_lexer": "ipython3",
   "version": "3.9.18"
  }
 },
 "nbformat": 4,
 "nbformat_minor": 5
}
